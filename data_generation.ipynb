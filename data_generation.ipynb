{
 "cells": [
  {
   "cell_type": "code",
   "execution_count": 4,
   "metadata": {},
   "outputs": [],
   "source": [
    "import pandas as pd\n",
    "from faker import Faker\n",
    "import data_info\n",
    "import random"
   ]
  },
  {
   "cell_type": "code",
   "execution_count": 5,
   "metadata": {},
   "outputs": [],
   "source": [
    "faker = Faker('ru_Ru')"
   ]
  },
  {
   "cell_type": "code",
   "execution_count": 6,
   "metadata": {},
   "outputs": [],
   "source": [
    "list_of_samples = [100,500,1000,5000,10000,50000,100000]\n",
    "for num in list_of_samples:\n",
    "    list_of_names=[]\n",
    "    list_of_countries=[]\n",
    "    list_of_clubs=[]\n",
    "    list_of_amplua = []\n",
    "    list_of_games = []\n",
    "    list_of_goals = []\n",
    "    for i in range(num):\n",
    "        list_of_names.append(faker.last_name_male()+\" \"+faker.first_name_male()+\" \"+faker.middle_name_male())\n",
    "        list_of_countries.append(random.choice(data_info.countries)[1])\n",
    "        list_of_clubs.append(random.choice(data_info.clubs))\n",
    "        list_of_amplua.append(random.choice(data_info.amplua))\n",
    "        list_of_games.append(random.randint(1,10))\n",
    "        list_of_goals.append(random.randint(1,30))\n",
    "        \n",
    "\n",
    "    df = pd.DataFrame(\n",
    "        {\n",
    "            \"Страна\": list_of_countries,\n",
    "            \"ФИО\": list_of_names,\n",
    "            \"Клуб\": list_of_clubs,\n",
    "            \"Амплуа\": list_of_amplua,\n",
    "            \"Количество матчей\": list_of_games,\n",
    "            \"Количество мячей\": list_of_goals\n",
    "        }\n",
    "    )\n",
    "    df.loc[df[\"Амплуа\"]==\"вратарь\",\"Количество мячей\"]=df[df[\"Амплуа\"] == \"вратарь\"][\"Количество мячей\"].apply(lambda x: -int(x))\n",
    "\n",
    "    df.to_csv(f\"{num}_samples.csv\",index=False)"
   ]
  },
  {
   "cell_type": "code",
   "execution_count": null,
   "metadata": {},
   "outputs": [],
   "source": []
  }
 ],
 "metadata": {
  "kernelspec": {
   "display_name": "Python 3",
   "language": "python",
   "name": "python3"
  },
  "language_info": {
   "codemirror_mode": {
    "name": "ipython",
    "version": 3
   },
   "file_extension": ".py",
   "mimetype": "text/x-python",
   "name": "python",
   "nbconvert_exporter": "python",
   "pygments_lexer": "ipython3",
   "version": "3.11.5"
  }
 },
 "nbformat": 4,
 "nbformat_minor": 2
}
