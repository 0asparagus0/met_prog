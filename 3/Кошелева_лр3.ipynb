{
  "nbformat": 4,
  "nbformat_minor": 0,
  "metadata": {
    "colab": {
      "provenance": []
    },
    "kernelspec": {
      "name": "python3",
      "display_name": "Python 3"
    },
    "language_info": {
      "name": "python"
    }
  },
  "cells": [
    {
      "cell_type": "code",
      "source": [
        "import numpy as np"
      ],
      "metadata": {
        "id": "xKctzwsQrFZg"
      },
      "execution_count": null,
      "outputs": []
    },
    {
      "cell_type": "markdown",
      "source": [
        "#1. Модифицировать (предложить собственные) два метода генерации псевдослучайных чисел."
      ],
      "metadata": {
        "id": "R7X5iP_FloDo"
      }
    },
    {
      "cell_type": "markdown",
      "source": [
        "**Аддитивный метод (генератор Фибоначчи)**\n"
      ],
      "metadata": {
        "id": "LScsiyb9mFkE"
      }
    },
    {
      "cell_type": "markdown",
      "source": [
        "Определяется целое число m. Берутся два целых числа. Следующее число равно сумме двух предыдущих, взятой по модулю m."
      ],
      "metadata": {
        "id": "HgHPTkiCmNal"
      }
    },
    {
      "cell_type": "code",
      "execution_count": null,
      "metadata": {
        "id": "lzXLQmB_lZZ9"
      },
      "outputs": [],
      "source": [
        "def fibb(prev_1, prev_2, m):\n",
        "  return (prev_1 + prev_2) % m"
      ]
    },
    {
      "cell_type": "markdown",
      "source": [
        "**BBS – генератор**"
      ],
      "metadata": {
        "id": "Q1skLLNhk_qx"
      }
    },
    {
      "cell_type": "markdown",
      "source": [
        "Вначале выбираются два больших простых числа p и q: p mod 4 = q mod 4 = 3, m=p*q. Стартовое число генератора должно быть взаимно просто с m."
      ],
      "metadata": {
        "id": "DNJC9PCZlIGP"
      }
    },
    {
      "cell_type": "code",
      "source": [
        "def BBS(prev_1, m):\n",
        "  return (np.power(prev_1,2)) % m"
      ],
      "metadata": {
        "id": "qRTw0cMP7-eV"
      },
      "execution_count": null,
      "outputs": []
    },
    {
      "cell_type": "markdown",
      "source": [
        "#2. Получить не менее 20 выборок каждым методом (диапазон чисел в каждой выборке не менее 5000) объемом не менее 100 элементов каждая."
      ],
      "metadata": {
        "id": "d59gKCxhnP0P"
      }
    },
    {
      "cell_type": "code",
      "source": [
        "m=101297"
      ],
      "metadata": {
        "id": "vrRMmEyH75_K"
      },
      "execution_count": null,
      "outputs": []
    },
    {
      "cell_type": "code",
      "source": [
        "samples_1=np.array([])\n",
        "mas=np.array([101296,1012975])\n",
        "for i in range (2,2000):\n",
        "  mas=np.append(mas,fibb(mas[i-2],mas[i-1],m))\n",
        "samples_1=np.reshape(mas, (20, 100))"
      ],
      "metadata": {
        "id": "rrlIJsY7nSlW"
      },
      "execution_count": null,
      "outputs": []
    },
    {
      "cell_type": "code",
      "source": [
        "samples_2=np.array([])\n",
        "mas=np.array([31])\n",
        "for i in range (1,2000):\n",
        "  mas=np.append(mas,BBS(mas[i-1],m))\n",
        "samples_2=np.reshape(mas, (20, 100))"
      ],
      "metadata": {
        "id": "e1R_Og7CwMct"
      },
      "execution_count": null,
      "outputs": []
    },
    {
      "cell_type": "markdown",
      "source": [
        "#3. Для каждой выборки посчитать среднее, отклонение и коэффициент вариации."
      ],
      "metadata": {
        "id": "Or9b68SZFJjV"
      }
    },
    {
      "cell_type": "code",
      "source": [
        "import pandas as pd"
      ],
      "metadata": {
        "id": "NsO5HYy4Sn09"
      },
      "execution_count": null,
      "outputs": []
    },
    {
      "cell_type": "code",
      "source": [
        "mean_1,mean_2,std_1,std_2,cvar_1,cvar_2=[],[],[],[],[],[]\n",
        "for i in range (20):\n",
        "  # среднее\n",
        "  mean_1.append(samples_1[i].mean())\n",
        "  mean_2.append(samples_2[i].mean())\n",
        "  # отклонение\n",
        "  std_1.append(samples_1[i].std())\n",
        "  std_2.append(samples_2[i].std())\n",
        "  # коэффициент вариации\n",
        "  cvar_1.append(std_1[i]/mean_1[i])\n",
        "  cvar_2.append(std_2[i]/mean_2[i])"
      ],
      "metadata": {
        "id": "hHvxs7p68pt8"
      },
      "execution_count": null,
      "outputs": []
    },
    {
      "cell_type": "markdown",
      "source": [
        "Занесем все полученные данные в таблицы"
      ],
      "metadata": {
        "id": "ErIqQAqAbEHQ"
      }
    },
    {
      "cell_type": "markdown",
      "source": [
        "Для первого метода:"
      ],
      "metadata": {
        "id": "sFlmAwX0bKhs"
      }
    },
    {
      "cell_type": "code",
      "source": [
        "parametrs_1_dict={\"среднее\":mean_1,\"отклонение\":std_1,\"коэффициент_вариации\":cvar_1}\n",
        "parametrs_1 = pd.DataFrame(parametrs_1_dict)\n",
        "parametrs_1.head()"
      ],
      "metadata": {
        "colab": {
          "base_uri": "https://localhost:8080/",
          "height": 206
        },
        "id": "lYZ4aOB6ITGO",
        "outputId": "e1b3b7c1-9dd4-448b-e5bd-4b479a411d7c"
      },
      "execution_count": null,
      "outputs": [
        {
          "output_type": "execute_result",
          "data": {
            "text/plain": [
              "    среднее     отклонение  коэффициент_вариации\n",
              "0  53116.73  102292.378459              1.925803\n",
              "1  50957.77   27954.696136              0.548586\n",
              "2  55026.69   28702.569090              0.521612\n",
              "3  54944.32   27806.885342              0.506092\n",
              "4  52031.31   29728.223065              0.571353"
            ],
            "text/html": [
              "\n",
              "  <div id=\"df-da086e75-1950-44d1-9bb7-6b6511bbcf2f\" class=\"colab-df-container\">\n",
              "    <div>\n",
              "<style scoped>\n",
              "    .dataframe tbody tr th:only-of-type {\n",
              "        vertical-align: middle;\n",
              "    }\n",
              "\n",
              "    .dataframe tbody tr th {\n",
              "        vertical-align: top;\n",
              "    }\n",
              "\n",
              "    .dataframe thead th {\n",
              "        text-align: right;\n",
              "    }\n",
              "</style>\n",
              "<table border=\"1\" class=\"dataframe\">\n",
              "  <thead>\n",
              "    <tr style=\"text-align: right;\">\n",
              "      <th></th>\n",
              "      <th>среднее</th>\n",
              "      <th>отклонение</th>\n",
              "      <th>коэффициент_вариации</th>\n",
              "    </tr>\n",
              "  </thead>\n",
              "  <tbody>\n",
              "    <tr>\n",
              "      <th>0</th>\n",
              "      <td>53116.73</td>\n",
              "      <td>102292.378459</td>\n",
              "      <td>1.925803</td>\n",
              "    </tr>\n",
              "    <tr>\n",
              "      <th>1</th>\n",
              "      <td>50957.77</td>\n",
              "      <td>27954.696136</td>\n",
              "      <td>0.548586</td>\n",
              "    </tr>\n",
              "    <tr>\n",
              "      <th>2</th>\n",
              "      <td>55026.69</td>\n",
              "      <td>28702.569090</td>\n",
              "      <td>0.521612</td>\n",
              "    </tr>\n",
              "    <tr>\n",
              "      <th>3</th>\n",
              "      <td>54944.32</td>\n",
              "      <td>27806.885342</td>\n",
              "      <td>0.506092</td>\n",
              "    </tr>\n",
              "    <tr>\n",
              "      <th>4</th>\n",
              "      <td>52031.31</td>\n",
              "      <td>29728.223065</td>\n",
              "      <td>0.571353</td>\n",
              "    </tr>\n",
              "  </tbody>\n",
              "</table>\n",
              "</div>\n",
              "    <div class=\"colab-df-buttons\">\n",
              "\n",
              "  <div class=\"colab-df-container\">\n",
              "    <button class=\"colab-df-convert\" onclick=\"convertToInteractive('df-da086e75-1950-44d1-9bb7-6b6511bbcf2f')\"\n",
              "            title=\"Convert this dataframe to an interactive table.\"\n",
              "            style=\"display:none;\">\n",
              "\n",
              "  <svg xmlns=\"http://www.w3.org/2000/svg\" height=\"24px\" viewBox=\"0 -960 960 960\">\n",
              "    <path d=\"M120-120v-720h720v720H120Zm60-500h600v-160H180v160Zm220 220h160v-160H400v160Zm0 220h160v-160H400v160ZM180-400h160v-160H180v160Zm440 0h160v-160H620v160ZM180-180h160v-160H180v160Zm440 0h160v-160H620v160Z\"/>\n",
              "  </svg>\n",
              "    </button>\n",
              "\n",
              "  <style>\n",
              "    .colab-df-container {\n",
              "      display:flex;\n",
              "      gap: 12px;\n",
              "    }\n",
              "\n",
              "    .colab-df-convert {\n",
              "      background-color: #E8F0FE;\n",
              "      border: none;\n",
              "      border-radius: 50%;\n",
              "      cursor: pointer;\n",
              "      display: none;\n",
              "      fill: #1967D2;\n",
              "      height: 32px;\n",
              "      padding: 0 0 0 0;\n",
              "      width: 32px;\n",
              "    }\n",
              "\n",
              "    .colab-df-convert:hover {\n",
              "      background-color: #E2EBFA;\n",
              "      box-shadow: 0px 1px 2px rgba(60, 64, 67, 0.3), 0px 1px 3px 1px rgba(60, 64, 67, 0.15);\n",
              "      fill: #174EA6;\n",
              "    }\n",
              "\n",
              "    .colab-df-buttons div {\n",
              "      margin-bottom: 4px;\n",
              "    }\n",
              "\n",
              "    [theme=dark] .colab-df-convert {\n",
              "      background-color: #3B4455;\n",
              "      fill: #D2E3FC;\n",
              "    }\n",
              "\n",
              "    [theme=dark] .colab-df-convert:hover {\n",
              "      background-color: #434B5C;\n",
              "      box-shadow: 0px 1px 3px 1px rgba(0, 0, 0, 0.15);\n",
              "      filter: drop-shadow(0px 1px 2px rgba(0, 0, 0, 0.3));\n",
              "      fill: #FFFFFF;\n",
              "    }\n",
              "  </style>\n",
              "\n",
              "    <script>\n",
              "      const buttonEl =\n",
              "        document.querySelector('#df-da086e75-1950-44d1-9bb7-6b6511bbcf2f button.colab-df-convert');\n",
              "      buttonEl.style.display =\n",
              "        google.colab.kernel.accessAllowed ? 'block' : 'none';\n",
              "\n",
              "      async function convertToInteractive(key) {\n",
              "        const element = document.querySelector('#df-da086e75-1950-44d1-9bb7-6b6511bbcf2f');\n",
              "        const dataTable =\n",
              "          await google.colab.kernel.invokeFunction('convertToInteractive',\n",
              "                                                    [key], {});\n",
              "        if (!dataTable) return;\n",
              "\n",
              "        const docLinkHtml = 'Like what you see? Visit the ' +\n",
              "          '<a target=\"_blank\" href=https://colab.research.google.com/notebooks/data_table.ipynb>data table notebook</a>'\n",
              "          + ' to learn more about interactive tables.';\n",
              "        element.innerHTML = '';\n",
              "        dataTable['output_type'] = 'display_data';\n",
              "        await google.colab.output.renderOutput(dataTable, element);\n",
              "        const docLink = document.createElement('div');\n",
              "        docLink.innerHTML = docLinkHtml;\n",
              "        element.appendChild(docLink);\n",
              "      }\n",
              "    </script>\n",
              "  </div>\n",
              "\n",
              "\n",
              "<div id=\"df-a7488688-c5cc-4def-8011-4031090bd23f\">\n",
              "  <button class=\"colab-df-quickchart\" onclick=\"quickchart('df-a7488688-c5cc-4def-8011-4031090bd23f')\"\n",
              "            title=\"Suggest charts\"\n",
              "            style=\"display:none;\">\n",
              "\n",
              "<svg xmlns=\"http://www.w3.org/2000/svg\" height=\"24px\"viewBox=\"0 0 24 24\"\n",
              "     width=\"24px\">\n",
              "    <g>\n",
              "        <path d=\"M19 3H5c-1.1 0-2 .9-2 2v14c0 1.1.9 2 2 2h14c1.1 0 2-.9 2-2V5c0-1.1-.9-2-2-2zM9 17H7v-7h2v7zm4 0h-2V7h2v10zm4 0h-2v-4h2v4z\"/>\n",
              "    </g>\n",
              "</svg>\n",
              "  </button>\n",
              "\n",
              "<style>\n",
              "  .colab-df-quickchart {\n",
              "      --bg-color: #E8F0FE;\n",
              "      --fill-color: #1967D2;\n",
              "      --hover-bg-color: #E2EBFA;\n",
              "      --hover-fill-color: #174EA6;\n",
              "      --disabled-fill-color: #AAA;\n",
              "      --disabled-bg-color: #DDD;\n",
              "  }\n",
              "\n",
              "  [theme=dark] .colab-df-quickchart {\n",
              "      --bg-color: #3B4455;\n",
              "      --fill-color: #D2E3FC;\n",
              "      --hover-bg-color: #434B5C;\n",
              "      --hover-fill-color: #FFFFFF;\n",
              "      --disabled-bg-color: #3B4455;\n",
              "      --disabled-fill-color: #666;\n",
              "  }\n",
              "\n",
              "  .colab-df-quickchart {\n",
              "    background-color: var(--bg-color);\n",
              "    border: none;\n",
              "    border-radius: 50%;\n",
              "    cursor: pointer;\n",
              "    display: none;\n",
              "    fill: var(--fill-color);\n",
              "    height: 32px;\n",
              "    padding: 0;\n",
              "    width: 32px;\n",
              "  }\n",
              "\n",
              "  .colab-df-quickchart:hover {\n",
              "    background-color: var(--hover-bg-color);\n",
              "    box-shadow: 0 1px 2px rgba(60, 64, 67, 0.3), 0 1px 3px 1px rgba(60, 64, 67, 0.15);\n",
              "    fill: var(--button-hover-fill-color);\n",
              "  }\n",
              "\n",
              "  .colab-df-quickchart-complete:disabled,\n",
              "  .colab-df-quickchart-complete:disabled:hover {\n",
              "    background-color: var(--disabled-bg-color);\n",
              "    fill: var(--disabled-fill-color);\n",
              "    box-shadow: none;\n",
              "  }\n",
              "\n",
              "  .colab-df-spinner {\n",
              "    border: 2px solid var(--fill-color);\n",
              "    border-color: transparent;\n",
              "    border-bottom-color: var(--fill-color);\n",
              "    animation:\n",
              "      spin 1s steps(1) infinite;\n",
              "  }\n",
              "\n",
              "  @keyframes spin {\n",
              "    0% {\n",
              "      border-color: transparent;\n",
              "      border-bottom-color: var(--fill-color);\n",
              "      border-left-color: var(--fill-color);\n",
              "    }\n",
              "    20% {\n",
              "      border-color: transparent;\n",
              "      border-left-color: var(--fill-color);\n",
              "      border-top-color: var(--fill-color);\n",
              "    }\n",
              "    30% {\n",
              "      border-color: transparent;\n",
              "      border-left-color: var(--fill-color);\n",
              "      border-top-color: var(--fill-color);\n",
              "      border-right-color: var(--fill-color);\n",
              "    }\n",
              "    40% {\n",
              "      border-color: transparent;\n",
              "      border-right-color: var(--fill-color);\n",
              "      border-top-color: var(--fill-color);\n",
              "    }\n",
              "    60% {\n",
              "      border-color: transparent;\n",
              "      border-right-color: var(--fill-color);\n",
              "    }\n",
              "    80% {\n",
              "      border-color: transparent;\n",
              "      border-right-color: var(--fill-color);\n",
              "      border-bottom-color: var(--fill-color);\n",
              "    }\n",
              "    90% {\n",
              "      border-color: transparent;\n",
              "      border-bottom-color: var(--fill-color);\n",
              "    }\n",
              "  }\n",
              "</style>\n",
              "\n",
              "  <script>\n",
              "    async function quickchart(key) {\n",
              "      const quickchartButtonEl =\n",
              "        document.querySelector('#' + key + ' button');\n",
              "      quickchartButtonEl.disabled = true;  // To prevent multiple clicks.\n",
              "      quickchartButtonEl.classList.add('colab-df-spinner');\n",
              "      try {\n",
              "        const charts = await google.colab.kernel.invokeFunction(\n",
              "            'suggestCharts', [key], {});\n",
              "      } catch (error) {\n",
              "        console.error('Error during call to suggestCharts:', error);\n",
              "      }\n",
              "      quickchartButtonEl.classList.remove('colab-df-spinner');\n",
              "      quickchartButtonEl.classList.add('colab-df-quickchart-complete');\n",
              "    }\n",
              "    (() => {\n",
              "      let quickchartButtonEl =\n",
              "        document.querySelector('#df-a7488688-c5cc-4def-8011-4031090bd23f button');\n",
              "      quickchartButtonEl.style.display =\n",
              "        google.colab.kernel.accessAllowed ? 'block' : 'none';\n",
              "    })();\n",
              "  </script>\n",
              "</div>\n",
              "    </div>\n",
              "  </div>\n"
            ],
            "application/vnd.google.colaboratory.intrinsic+json": {
              "type": "dataframe",
              "variable_name": "parametrs_1",
              "summary": "{\n  \"name\": \"parametrs_1\",\n  \"rows\": 20,\n  \"fields\": [\n    {\n      \"column\": \"\\u0441\\u0440\\u0435\\u0434\\u043d\\u0435\\u0435\",\n      \"properties\": {\n        \"dtype\": \"number\",\n        \"std\": 2514.722658336774,\n        \"min\": 46832.14,\n        \"max\": 55026.69,\n        \"num_unique_values\": 20,\n        \"samples\": [\n          53116.73,\n          51796.37,\n          54353.38\n        ],\n        \"semantic_type\": \"\",\n        \"description\": \"\"\n      }\n    },\n    {\n      \"column\": \"\\u043e\\u0442\\u043a\\u043b\\u043e\\u043d\\u0435\\u043d\\u0438\\u0435\",\n      \"properties\": {\n        \"dtype\": \"number\",\n        \"std\": 16429.759002268933,\n        \"min\": 26401.81491513604,\n        \"max\": 102292.37845850052,\n        \"num_unique_values\": 20,\n        \"samples\": [\n          102292.37845850052,\n          26401.81491513604,\n          28369.06413323499\n        ],\n        \"semantic_type\": \"\",\n        \"description\": \"\"\n      }\n    },\n    {\n      \"column\": \"\\u043a\\u043e\\u044d\\u0444\\u0444\\u0438\\u0446\\u0438\\u0435\\u043d\\u0442_\\u0432\\u0430\\u0440\\u0438\\u0430\\u0446\\u0438\\u0438\",\n      \"properties\": {\n        \"dtype\": \"number\",\n        \"std\": 0.3055293508675266,\n        \"min\": 0.506092082710287,\n        \"max\": 1.9258033854587908,\n        \"num_unique_values\": 20,\n        \"samples\": [\n          1.9258033854587908,\n          0.5097232666137809,\n          0.5219374422204285\n        ],\n        \"semantic_type\": \"\",\n        \"description\": \"\"\n      }\n    }\n  ]\n}"
            }
          },
          "metadata": {},
          "execution_count": 37
        }
      ]
    },
    {
      "cell_type": "markdown",
      "source": [
        "Для второго метода:"
      ],
      "metadata": {
        "id": "cty6TnXjbPcx"
      }
    },
    {
      "cell_type": "code",
      "source": [
        "parametrs_2_dict={\"среднее\":mean_2,\"отклонение\":std_2,\"коэффициент_вариации\":cvar_2}\n",
        "parametrs_2 = pd.DataFrame(parametrs_2_dict)\n",
        "parametrs_2.head()"
      ],
      "metadata": {
        "colab": {
          "base_uri": "https://localhost:8080/",
          "height": 206
        },
        "id": "R26_Xd3CMBT2",
        "outputId": "6484db9c-3dae-4ad7-ea15-faad3042933e"
      },
      "execution_count": null,
      "outputs": [
        {
          "output_type": "execute_result",
          "data": {
            "text/plain": [
              "    среднее    отклонение  коэффициент_вариации\n",
              "0  50200.83  31635.675942              0.630182\n",
              "1  50294.36  28360.990199              0.563900\n",
              "2  51563.60  30391.024903              0.589389\n",
              "3  50059.16  29518.884683              0.589680\n",
              "4  51723.48  28630.978164              0.553539"
            ],
            "text/html": [
              "\n",
              "  <div id=\"df-24805620-c800-457d-962a-4c55f3a000f2\" class=\"colab-df-container\">\n",
              "    <div>\n",
              "<style scoped>\n",
              "    .dataframe tbody tr th:only-of-type {\n",
              "        vertical-align: middle;\n",
              "    }\n",
              "\n",
              "    .dataframe tbody tr th {\n",
              "        vertical-align: top;\n",
              "    }\n",
              "\n",
              "    .dataframe thead th {\n",
              "        text-align: right;\n",
              "    }\n",
              "</style>\n",
              "<table border=\"1\" class=\"dataframe\">\n",
              "  <thead>\n",
              "    <tr style=\"text-align: right;\">\n",
              "      <th></th>\n",
              "      <th>среднее</th>\n",
              "      <th>отклонение</th>\n",
              "      <th>коэффициент_вариации</th>\n",
              "    </tr>\n",
              "  </thead>\n",
              "  <tbody>\n",
              "    <tr>\n",
              "      <th>0</th>\n",
              "      <td>50200.83</td>\n",
              "      <td>31635.675942</td>\n",
              "      <td>0.630182</td>\n",
              "    </tr>\n",
              "    <tr>\n",
              "      <th>1</th>\n",
              "      <td>50294.36</td>\n",
              "      <td>28360.990199</td>\n",
              "      <td>0.563900</td>\n",
              "    </tr>\n",
              "    <tr>\n",
              "      <th>2</th>\n",
              "      <td>51563.60</td>\n",
              "      <td>30391.024903</td>\n",
              "      <td>0.589389</td>\n",
              "    </tr>\n",
              "    <tr>\n",
              "      <th>3</th>\n",
              "      <td>50059.16</td>\n",
              "      <td>29518.884683</td>\n",
              "      <td>0.589680</td>\n",
              "    </tr>\n",
              "    <tr>\n",
              "      <th>4</th>\n",
              "      <td>51723.48</td>\n",
              "      <td>28630.978164</td>\n",
              "      <td>0.553539</td>\n",
              "    </tr>\n",
              "  </tbody>\n",
              "</table>\n",
              "</div>\n",
              "    <div class=\"colab-df-buttons\">\n",
              "\n",
              "  <div class=\"colab-df-container\">\n",
              "    <button class=\"colab-df-convert\" onclick=\"convertToInteractive('df-24805620-c800-457d-962a-4c55f3a000f2')\"\n",
              "            title=\"Convert this dataframe to an interactive table.\"\n",
              "            style=\"display:none;\">\n",
              "\n",
              "  <svg xmlns=\"http://www.w3.org/2000/svg\" height=\"24px\" viewBox=\"0 -960 960 960\">\n",
              "    <path d=\"M120-120v-720h720v720H120Zm60-500h600v-160H180v160Zm220 220h160v-160H400v160Zm0 220h160v-160H400v160ZM180-400h160v-160H180v160Zm440 0h160v-160H620v160ZM180-180h160v-160H180v160Zm440 0h160v-160H620v160Z\"/>\n",
              "  </svg>\n",
              "    </button>\n",
              "\n",
              "  <style>\n",
              "    .colab-df-container {\n",
              "      display:flex;\n",
              "      gap: 12px;\n",
              "    }\n",
              "\n",
              "    .colab-df-convert {\n",
              "      background-color: #E8F0FE;\n",
              "      border: none;\n",
              "      border-radius: 50%;\n",
              "      cursor: pointer;\n",
              "      display: none;\n",
              "      fill: #1967D2;\n",
              "      height: 32px;\n",
              "      padding: 0 0 0 0;\n",
              "      width: 32px;\n",
              "    }\n",
              "\n",
              "    .colab-df-convert:hover {\n",
              "      background-color: #E2EBFA;\n",
              "      box-shadow: 0px 1px 2px rgba(60, 64, 67, 0.3), 0px 1px 3px 1px rgba(60, 64, 67, 0.15);\n",
              "      fill: #174EA6;\n",
              "    }\n",
              "\n",
              "    .colab-df-buttons div {\n",
              "      margin-bottom: 4px;\n",
              "    }\n",
              "\n",
              "    [theme=dark] .colab-df-convert {\n",
              "      background-color: #3B4455;\n",
              "      fill: #D2E3FC;\n",
              "    }\n",
              "\n",
              "    [theme=dark] .colab-df-convert:hover {\n",
              "      background-color: #434B5C;\n",
              "      box-shadow: 0px 1px 3px 1px rgba(0, 0, 0, 0.15);\n",
              "      filter: drop-shadow(0px 1px 2px rgba(0, 0, 0, 0.3));\n",
              "      fill: #FFFFFF;\n",
              "    }\n",
              "  </style>\n",
              "\n",
              "    <script>\n",
              "      const buttonEl =\n",
              "        document.querySelector('#df-24805620-c800-457d-962a-4c55f3a000f2 button.colab-df-convert');\n",
              "      buttonEl.style.display =\n",
              "        google.colab.kernel.accessAllowed ? 'block' : 'none';\n",
              "\n",
              "      async function convertToInteractive(key) {\n",
              "        const element = document.querySelector('#df-24805620-c800-457d-962a-4c55f3a000f2');\n",
              "        const dataTable =\n",
              "          await google.colab.kernel.invokeFunction('convertToInteractive',\n",
              "                                                    [key], {});\n",
              "        if (!dataTable) return;\n",
              "\n",
              "        const docLinkHtml = 'Like what you see? Visit the ' +\n",
              "          '<a target=\"_blank\" href=https://colab.research.google.com/notebooks/data_table.ipynb>data table notebook</a>'\n",
              "          + ' to learn more about interactive tables.';\n",
              "        element.innerHTML = '';\n",
              "        dataTable['output_type'] = 'display_data';\n",
              "        await google.colab.output.renderOutput(dataTable, element);\n",
              "        const docLink = document.createElement('div');\n",
              "        docLink.innerHTML = docLinkHtml;\n",
              "        element.appendChild(docLink);\n",
              "      }\n",
              "    </script>\n",
              "  </div>\n",
              "\n",
              "\n",
              "<div id=\"df-7410df60-60be-4a17-866b-de48fb33a219\">\n",
              "  <button class=\"colab-df-quickchart\" onclick=\"quickchart('df-7410df60-60be-4a17-866b-de48fb33a219')\"\n",
              "            title=\"Suggest charts\"\n",
              "            style=\"display:none;\">\n",
              "\n",
              "<svg xmlns=\"http://www.w3.org/2000/svg\" height=\"24px\"viewBox=\"0 0 24 24\"\n",
              "     width=\"24px\">\n",
              "    <g>\n",
              "        <path d=\"M19 3H5c-1.1 0-2 .9-2 2v14c0 1.1.9 2 2 2h14c1.1 0 2-.9 2-2V5c0-1.1-.9-2-2-2zM9 17H7v-7h2v7zm4 0h-2V7h2v10zm4 0h-2v-4h2v4z\"/>\n",
              "    </g>\n",
              "</svg>\n",
              "  </button>\n",
              "\n",
              "<style>\n",
              "  .colab-df-quickchart {\n",
              "      --bg-color: #E8F0FE;\n",
              "      --fill-color: #1967D2;\n",
              "      --hover-bg-color: #E2EBFA;\n",
              "      --hover-fill-color: #174EA6;\n",
              "      --disabled-fill-color: #AAA;\n",
              "      --disabled-bg-color: #DDD;\n",
              "  }\n",
              "\n",
              "  [theme=dark] .colab-df-quickchart {\n",
              "      --bg-color: #3B4455;\n",
              "      --fill-color: #D2E3FC;\n",
              "      --hover-bg-color: #434B5C;\n",
              "      --hover-fill-color: #FFFFFF;\n",
              "      --disabled-bg-color: #3B4455;\n",
              "      --disabled-fill-color: #666;\n",
              "  }\n",
              "\n",
              "  .colab-df-quickchart {\n",
              "    background-color: var(--bg-color);\n",
              "    border: none;\n",
              "    border-radius: 50%;\n",
              "    cursor: pointer;\n",
              "    display: none;\n",
              "    fill: var(--fill-color);\n",
              "    height: 32px;\n",
              "    padding: 0;\n",
              "    width: 32px;\n",
              "  }\n",
              "\n",
              "  .colab-df-quickchart:hover {\n",
              "    background-color: var(--hover-bg-color);\n",
              "    box-shadow: 0 1px 2px rgba(60, 64, 67, 0.3), 0 1px 3px 1px rgba(60, 64, 67, 0.15);\n",
              "    fill: var(--button-hover-fill-color);\n",
              "  }\n",
              "\n",
              "  .colab-df-quickchart-complete:disabled,\n",
              "  .colab-df-quickchart-complete:disabled:hover {\n",
              "    background-color: var(--disabled-bg-color);\n",
              "    fill: var(--disabled-fill-color);\n",
              "    box-shadow: none;\n",
              "  }\n",
              "\n",
              "  .colab-df-spinner {\n",
              "    border: 2px solid var(--fill-color);\n",
              "    border-color: transparent;\n",
              "    border-bottom-color: var(--fill-color);\n",
              "    animation:\n",
              "      spin 1s steps(1) infinite;\n",
              "  }\n",
              "\n",
              "  @keyframes spin {\n",
              "    0% {\n",
              "      border-color: transparent;\n",
              "      border-bottom-color: var(--fill-color);\n",
              "      border-left-color: var(--fill-color);\n",
              "    }\n",
              "    20% {\n",
              "      border-color: transparent;\n",
              "      border-left-color: var(--fill-color);\n",
              "      border-top-color: var(--fill-color);\n",
              "    }\n",
              "    30% {\n",
              "      border-color: transparent;\n",
              "      border-left-color: var(--fill-color);\n",
              "      border-top-color: var(--fill-color);\n",
              "      border-right-color: var(--fill-color);\n",
              "    }\n",
              "    40% {\n",
              "      border-color: transparent;\n",
              "      border-right-color: var(--fill-color);\n",
              "      border-top-color: var(--fill-color);\n",
              "    }\n",
              "    60% {\n",
              "      border-color: transparent;\n",
              "      border-right-color: var(--fill-color);\n",
              "    }\n",
              "    80% {\n",
              "      border-color: transparent;\n",
              "      border-right-color: var(--fill-color);\n",
              "      border-bottom-color: var(--fill-color);\n",
              "    }\n",
              "    90% {\n",
              "      border-color: transparent;\n",
              "      border-bottom-color: var(--fill-color);\n",
              "    }\n",
              "  }\n",
              "</style>\n",
              "\n",
              "  <script>\n",
              "    async function quickchart(key) {\n",
              "      const quickchartButtonEl =\n",
              "        document.querySelector('#' + key + ' button');\n",
              "      quickchartButtonEl.disabled = true;  // To prevent multiple clicks.\n",
              "      quickchartButtonEl.classList.add('colab-df-spinner');\n",
              "      try {\n",
              "        const charts = await google.colab.kernel.invokeFunction(\n",
              "            'suggestCharts', [key], {});\n",
              "      } catch (error) {\n",
              "        console.error('Error during call to suggestCharts:', error);\n",
              "      }\n",
              "      quickchartButtonEl.classList.remove('colab-df-spinner');\n",
              "      quickchartButtonEl.classList.add('colab-df-quickchart-complete');\n",
              "    }\n",
              "    (() => {\n",
              "      let quickchartButtonEl =\n",
              "        document.querySelector('#df-7410df60-60be-4a17-866b-de48fb33a219 button');\n",
              "      quickchartButtonEl.style.display =\n",
              "        google.colab.kernel.accessAllowed ? 'block' : 'none';\n",
              "    })();\n",
              "  </script>\n",
              "</div>\n",
              "    </div>\n",
              "  </div>\n"
            ],
            "application/vnd.google.colaboratory.intrinsic+json": {
              "type": "dataframe",
              "variable_name": "parametrs_2",
              "summary": "{\n  \"name\": \"parametrs_2\",\n  \"rows\": 20,\n  \"fields\": [\n    {\n      \"column\": \"\\u0441\\u0440\\u0435\\u0434\\u043d\\u0435\\u0435\",\n      \"properties\": {\n        \"dtype\": \"number\",\n        \"std\": 1279.665697925995,\n        \"min\": 48853.34,\n        \"max\": 52996.29,\n        \"num_unique_values\": 20,\n        \"samples\": [\n          50200.83,\n          51196.17,\n          48853.34\n        ],\n        \"semantic_type\": \"\",\n        \"description\": \"\"\n      }\n    },\n    {\n      \"column\": \"\\u043e\\u0442\\u043a\\u043b\\u043e\\u043d\\u0435\\u043d\\u0438\\u0435\",\n      \"properties\": {\n        \"dtype\": \"number\",\n        \"std\": 954.8442165957758,\n        \"min\": 27986.783046280976,\n        \"max\": 31635.6759415869,\n        \"num_unique_values\": 20,\n        \"samples\": [\n          31635.6759415869,\n          29537.387848980485,\n          30458.433870184457\n        ],\n        \"semantic_type\": \"\",\n        \"description\": \"\"\n      }\n    },\n    {\n      \"column\": \"\\u043a\\u043e\\u044d\\u0444\\u0444\\u0438\\u0446\\u0438\\u0435\\u043d\\u0442_\\u0432\\u0430\\u0440\\u0438\\u0430\\u0446\\u0438\\u0438\",\n      \"properties\": {\n        \"dtype\": \"number\",\n        \"std\": 0.029962619602356796,\n        \"min\": 0.5359144232675398,\n        \"max\": 0.6301823284911205,\n        \"num_unique_values\": 20,\n        \"samples\": [\n          0.6301823284911205,\n          0.5769452646356258,\n          0.6234667654286168\n        ],\n        \"semantic_type\": \"\",\n        \"description\": \"\"\n      }\n    }\n  ]\n}"
            }
          },
          "metadata": {},
          "execution_count": 38
        }
      ]
    },
    {
      "cell_type": "markdown",
      "source": [
        "#4. Каждую выборку проверить на равномерность распределения и случайность, используя критерий Хи-квадрат."
      ],
      "metadata": {
        "id": "57OaF00_PNOu"
      }
    },
    {
      "cell_type": "code",
      "source": [
        "import math"
      ],
      "metadata": {
        "id": "ehTbmt9tOLxx"
      },
      "execution_count": null,
      "outputs": []
    },
    {
      "cell_type": "markdown",
      "source": [
        "Разобьем диапазон возможных значений [0, 101297] на k интервалов по формуле Стерджеса:"
      ],
      "metadata": {
        "id": "MkbLxyt_S8kz"
      }
    },
    {
      "cell_type": "code",
      "source": [
        "N=100\n",
        "k=round(1+1.44*math.log(N)) # k = 8\n",
        "intervals_borders=[ (m//k)*i for i in range (1,k) ]\n",
        "intervals_borders.append(m)\n",
        "intervals_borders"
      ],
      "metadata": {
        "colab": {
          "base_uri": "https://localhost:8080/"
        },
        "id": "62ns7o96Sr7j",
        "outputId": "83d00fd4-d7b8-4522-a215-da64cb3930ee"
      },
      "execution_count": null,
      "outputs": [
        {
          "output_type": "execute_result",
          "data": {
            "text/plain": [
              "[12662, 25324, 37986, 50648, 63310, 75972, 88634, 101297]"
            ]
          },
          "metadata": {},
          "execution_count": 40
        }
      ]
    },
    {
      "cell_type": "markdown",
      "source": [
        "Определяется количество случайных чисел, попавших в каждый\n",
        "интервал:"
      ],
      "metadata": {
        "id": "yq4zHezZW5OI"
      }
    },
    {
      "cell_type": "code",
      "source": [
        "n_i_1,n_i_2=[[]]*20,[[]]*20\n",
        "for i in range (20):\n",
        "  n_i_1[i],n_i_2[i]=[0]*k,[0]*k\n",
        "  for j in range (100):\n",
        "    for g in range (k):\n",
        "      if samples_1[i][j]<=intervals_borders[g]:\n",
        "        n_i_1[i][g]+=1\n",
        "        break\n",
        "    for g in range (k):\n",
        "      if samples_2[i][j]<=intervals_borders[g]:\n",
        "        n_i_2[i][g]+=1\n",
        "        break"
      ],
      "metadata": {
        "id": "eTsRiVKlTzrv"
      },
      "execution_count": null,
      "outputs": []
    },
    {
      "cell_type": "markdown",
      "source": [
        "Вычисляем экспериментальное значение хи-квадрат"
      ],
      "metadata": {
        "id": "SX8s_DTwjxbc"
      }
    },
    {
      "cell_type": "code",
      "source": [
        "hi_exp_1,hi_exp_2=[],[]\n",
        "\n",
        "for i in range (20):\n",
        "  s1,s2=0,0\n",
        "  for j in range (k):\n",
        "    s1+=n_i_1[i][j]**2\n",
        "    s2+=n_i_2[i][j]**2\n",
        "  hi_exp_1.append(k*s1/N-N)\n",
        "  hi_exp_2.append(k*s2/N-N)"
      ],
      "metadata": {
        "id": "waOrXBZshXg5"
      },
      "execution_count": null,
      "outputs": []
    },
    {
      "cell_type": "markdown",
      "source": [
        "Сравниваем экспериментально полученное значение хи-квадрат с экспериментальным"
      ],
      "metadata": {
        "id": "sUBHnut5nmQ9"
      }
    },
    {
      "cell_type": "code",
      "source": [
        "probabilities = [0.01, 0.05, 0.25, 0.5, 0.75, 0.95, 0.99]\n",
        "hi_teor = [1.239, 2.167, 4.255, 6.346, 9.037, 14.07, 18.48]"
      ],
      "metadata": {
        "id": "XkyAAfwU8Qbg"
      },
      "execution_count": null,
      "outputs": []
    },
    {
      "cell_type": "markdown",
      "source": [
        "Для первого метода:"
      ],
      "metadata": {
        "id": "wee_9hcid4av"
      }
    },
    {
      "cell_type": "code",
      "source": [
        "i=1\n",
        "for elem in (hi_exp_1):\n",
        "  if (elem < hi_teor[0]) or (elem > hi_teor[-1]):\n",
        "    print(f\"Для выборки №{i}{' ' if i < 10 else ''} гипотеза о случайности и равномерности ГПСЧ не выполняется\")\n",
        "  else:\n",
        "    print(f\"Для выборки №{i}{' ' if i < 10 else ''} p = {probabilities[min(range(len(hi_teor)), key = lambda j: abs(hi_teor[j]-elem))]}\")\n",
        "  i+=1"
      ],
      "metadata": {
        "colab": {
          "base_uri": "https://localhost:8080/"
        },
        "id": "TrJgHl3c2EqH",
        "outputId": "bd24c1d2-f1b2-43da-83f1-eeacf40bdac7"
      },
      "execution_count": null,
      "outputs": [
        {
          "output_type": "stream",
          "name": "stdout",
          "text": [
            "Для выборки №1  гипотеза о случайности и равномерности ГПСЧ не выполняется\n",
            "Для выборки №2  p = 0.25\n",
            "Для выборки №3  p = 0.75\n",
            "Для выборки №4  p = 0.75\n",
            "Для выборки №5  p = 0.05\n",
            "Для выборки №6  p = 0.5\n",
            "Для выборки №7  p = 0.25\n",
            "Для выборки №8  p = 0.25\n",
            "Для выборки №9  p = 0.25\n",
            "Для выборки №10 p = 0.05\n",
            "Для выборки №11 p = 0.25\n",
            "Для выборки №12 p = 0.5\n",
            "Для выборки №13 p = 0.05\n",
            "Для выборки №14 p = 0.75\n",
            "Для выборки №15 p = 0.5\n",
            "Для выборки №16 p = 0.95\n",
            "Для выборки №17 p = 0.05\n",
            "Для выборки №18 p = 0.95\n",
            "Для выборки №19 p = 0.25\n",
            "Для выборки №20 p = 0.5\n"
          ]
        }
      ]
    },
    {
      "cell_type": "markdown",
      "source": [
        "Для второго метода:"
      ],
      "metadata": {
        "id": "WadNkqRvd5gd"
      }
    },
    {
      "cell_type": "code",
      "source": [
        "i=1\n",
        "for elem in (hi_exp_2):\n",
        "  if (elem < hi_teor[0]) or (elem > hi_teor[-1]):\n",
        "    print(f\"Для выборки №{i}{' ' if i < 10 else ''} гипотеза о случайности и равномерности ГПСЧ не выполняется\")\n",
        "  else:\n",
        "    print(f\"Для выборки №{i}{' ' if i < 10 else ''} p = {probabilities[min(range(len(hi_teor)), key = lambda j: abs(hi_teor[j]-elem))]}\")\n",
        "  i+=1"
      ],
      "metadata": {
        "colab": {
          "base_uri": "https://localhost:8080/"
        },
        "id": "1gyKwRkYdT-E",
        "outputId": "85aa7bf7-1420-4f22-b1c1-d75a1789e365"
      },
      "execution_count": null,
      "outputs": [
        {
          "output_type": "stream",
          "name": "stdout",
          "text": [
            "Для выборки №1  p = 0.75\n",
            "Для выборки №2  p = 0.25\n",
            "Для выборки №3  p = 0.75\n",
            "Для выборки №4  гипотеза о случайности и равномерности ГПСЧ не выполняется\n",
            "Для выборки №5  p = 0.5\n",
            "Для выборки №6  p = 0.5\n",
            "Для выборки №7  p = 0.25\n",
            "Для выборки №8  p = 0.5\n",
            "Для выборки №9  p = 0.05\n",
            "Для выборки №10 p = 0.5\n",
            "Для выборки №11 p = 0.5\n",
            "Для выборки №12 p = 0.25\n",
            "Для выборки №13 p = 0.25\n",
            "Для выборки №14 p = 0.05\n",
            "Для выборки №15 p = 0.75\n",
            "Для выборки №16 p = 0.25\n",
            "Для выборки №17 p = 0.5\n",
            "Для выборки №18 p = 0.5\n",
            "Для выборки №19 p = 0.05\n",
            "Для выборки №20 p = 0.5\n"
          ]
        }
      ]
    },
    {
      "cell_type": "markdown",
      "source": [
        "#5. Для каждого алгоритма осуществить проверку с помощью не менее 3-х тестов NIST и/или Diehard. Сделать выводы и сравнить их с п.4."
      ],
      "metadata": {
        "id": "3EvgCs_hpz7s"
      }
    },
    {
      "cell_type": "markdown",
      "source": [
        "Генерация двоичных выборок"
      ],
      "metadata": {
        "id": "DyWA-0jhkEdz"
      }
    },
    {
      "cell_type": "code",
      "source": [
        "size=100000"
      ],
      "metadata": {
        "id": "snotS2Vn6Hpo"
      },
      "execution_count": null,
      "outputs": []
    },
    {
      "cell_type": "code",
      "source": [
        "mas=[101296,1012975]\n",
        "for i in range (2,size):\n",
        "  mas.append(fibb(mas[i-2],mas[i-1],m))\n",
        "samples_1_bin=np.array([i%2 for i in mas])"
      ],
      "metadata": {
        "id": "ZWRUVUfApnA2"
      },
      "execution_count": null,
      "outputs": []
    },
    {
      "cell_type": "code",
      "source": [
        "mas=[31]\n",
        "for i in range (1,size):\n",
        "  mas.append(BBS(mas[i-1],m))\n",
        "samples_2_bin=np.array([i%2 for i in mas])"
      ],
      "metadata": {
        "id": "rQcx_WxAi_OS"
      },
      "execution_count": null,
      "outputs": []
    },
    {
      "cell_type": "markdown",
      "source": [
        "**Частотный побитовый тест**"
      ],
      "metadata": {
        "id": "pHM5vM4q8Rra"
      }
    },
    {
      "cell_type": "code",
      "source": [
        "s_1=abs(np.count_nonzero (samples_1_bin == 1 ) - np.count_nonzero (samples_1_bin == 0 ))\n",
        "s_2=abs(np.count_nonzero (samples_2_bin == 1 ) - np.count_nonzero (samples_2_bin == 0 ))\n",
        "s_obs_1=s_1/(math.sqrt(size))\n",
        "s_obs_2=s_2/(math.sqrt(size))\n",
        "p_value_1=math.erfc(s_obs_1 / math.sqrt(2))\n",
        "p_value_2=math.erfc(s_obs_2 / math.sqrt(2))\n",
        "print(\"последовательность 1 носит случайный характер\") if (p_value_1 >= 0.01) else print(\"последовательность 1 не является истинно случайной\")\n",
        "print(\"последовательность 2 носит случайный характер\") if (p_value_2 >= 0.01) else print(\"последовательность 2 не является истинно случайной\")"
      ],
      "metadata": {
        "colab": {
          "base_uri": "https://localhost:8080/"
        },
        "id": "SeIuHT8W8Q_C",
        "outputId": "9ad28719-9b83-4c31-ce17-5b98d75d60f1"
      },
      "execution_count": null,
      "outputs": [
        {
          "output_type": "stream",
          "name": "stdout",
          "text": [
            "последовательность 1 носит случайный характер\n",
            "последовательность 2 носит случайный характер\n"
          ]
        }
      ]
    },
    {
      "cell_type": "markdown",
      "source": [
        "**Частотный блочный тест**"
      ],
      "metadata": {
        "id": "lSIDrfvkbBY4"
      }
    },
    {
      "cell_type": "code",
      "source": [
        "import scipy.special"
      ],
      "metadata": {
        "id": "mheqRwZ7ZoVk"
      },
      "execution_count": null,
      "outputs": []
    },
    {
      "cell_type": "code",
      "source": [
        "M=5\n",
        "N = size // M\n",
        "pi_1 = np.array([np.sum(samples_1_bin[i*M:(i+1)*M] == 1) / M for i in range(N)])\n",
        "pi_2 = np.array([np.sum(samples_2_bin[i*M:(i+1)*M] == 1) / M for i in range(N)])\n",
        "hi_obs_1 = 4*M*np.sum((pi_1 - 0.5)**2)\n",
        "hi_obs_2 = 4*M*np.sum((pi_2 - 0.5)**2)\n",
        "p_value_1 = scipy.special.gammaincc(N / 2, hi_obs_1 / 2)\n",
        "p_value_2 = scipy.special.gammaincc(N / 2, hi_obs_2 / 2)\n",
        "print(\"последовательность 1 носит случайный характер\") if (p_value_1 >= 0.01) else print(\"последовательность 1 не является истинно случайной\")\n",
        "print(\"последовательность 2 носит случайный характер\") if (p_value_2 >= 0.01) else print(\"последовательность 2 не является истинно случайной\")"
      ],
      "metadata": {
        "colab": {
          "base_uri": "https://localhost:8080/"
        },
        "id": "Aj-6-8UHZKdK",
        "outputId": "7097cce2-8954-4427-eaca-b5c2daba7c2c"
      },
      "execution_count": null,
      "outputs": [
        {
          "output_type": "stream",
          "name": "stdout",
          "text": [
            "последовательность 1 носит случайный характер\n",
            "последовательность 2 носит случайный характер\n"
          ]
        }
      ]
    },
    {
      "cell_type": "markdown",
      "source": [
        "**Тест на последовательность одинаковых битов**"
      ],
      "metadata": {
        "id": "Q4ewUwlAbOoA"
      }
    },
    {
      "cell_type": "code",
      "source": [
        "t = 2 / (size**0.5)\n",
        "tmp=1\n",
        "for sample in [samples_1_bin,samples_2_bin]:\n",
        "  pi=np.sum(sample == 1)/ size\n",
        "  if abs(pi - 0.5) >= t:\n",
        "    print(f\"последовательность {tmp} не является истинно случайной\")\n",
        "  else:\n",
        "    V_n_obs= 1\n",
        "    for i in range(size-1):\n",
        "        if sample[i] != sample[i+1]: V_n_obs += 1\n",
        "    p_value = math.erfc( abs(V_n_obs - 2*size*pi*(1-pi)) / (2*(2*size)**0.5*pi*(1-pi)))\n",
        "    print(f\"последовательность {tmp} носит случайный характер\") if (p_value >= 0.01) else print(f\"последовательность {tmp} не является истинно случайной\")\n",
        "  tmp=2"
      ],
      "metadata": {
        "colab": {
          "base_uri": "https://localhost:8080/"
        },
        "id": "ifOAISvN0nWN",
        "outputId": "1c9634bb-ae4f-4451-e718-c626aa9da5cf"
      },
      "execution_count": null,
      "outputs": [
        {
          "output_type": "stream",
          "name": "stdout",
          "text": [
            "последовательность 1 носит случайный характер\n",
            "последовательность 2 не является истинно случайной\n"
          ]
        }
      ]
    },
    {
      "cell_type": "markdown",
      "source": [
        "##Выводы"
      ],
      "metadata": {
        "id": "JTYxXsuWbVXU"
      }
    },
    {
      "cell_type": "markdown",
      "source": [
        "Для первого метода все тесты были пройдены, для второго 2/3, что является отличным результатом для таких простых алгоритмов. С п.4 разногласий нет."
      ],
      "metadata": {
        "id": "iFIpniMXeR7l"
      }
    },
    {
      "cell_type": "markdown",
      "source": [
        "#6. Засечь время генерации чисел от тысячи до миллиона элементов обоими предложенными методами и любым стандартным методом используемого языка программирования."
      ],
      "metadata": {
        "id": "uLf7EQyFp8UN"
      }
    },
    {
      "cell_type": "code",
      "source": [
        "import time\n",
        "import random"
      ],
      "metadata": {
        "id": "42q36FX4p-nv"
      },
      "execution_count": null,
      "outputs": []
    },
    {
      "cell_type": "code",
      "source": [
        "samples_sizes = [1000, 10000, 100000, 500000, 1000000]\n",
        "times1 = []\n",
        "times2 = []\n",
        "times3 = []\n",
        "for s_size in samples_sizes:\n",
        "  start_time1 = time.perf_counter()\n",
        "  mas=[101296,1012975]\n",
        "  for i in range (2,s_size):\n",
        "    mas.append(fibb(mas[i-2],mas[i-1],m))\n",
        "  times1.append(time.perf_counter() - start_time1)\n",
        "\n",
        "  start_time2 = time.perf_counter()\n",
        "  mas=[31]\n",
        "  for i in range (1,s_size):\n",
        "    mas.append(BBS(mas[i-1],m))\n",
        "  times2.append(time.perf_counter() - start_time2)\n",
        "\n",
        "  start_time3 = time.perf_counter()\n",
        "  for i in range(s_size):\n",
        "    random.randint(0, m)\n",
        "  times3.append(time.perf_counter() - start_time3)"
      ],
      "metadata": {
        "id": "15HGwRqc5XBs"
      },
      "execution_count": null,
      "outputs": []
    },
    {
      "cell_type": "markdown",
      "source": [
        "#Построить графики сравнения скоростей в зависимости от объема выборки."
      ],
      "metadata": {
        "id": "78tUR-4I8iVT"
      }
    },
    {
      "cell_type": "code",
      "source": [
        "import matplotlib.pyplot as plt"
      ],
      "metadata": {
        "id": "4X1nqHbl8Zhi"
      },
      "execution_count": null,
      "outputs": []
    },
    {
      "cell_type": "code",
      "source": [
        "plt.title('Скорость генерации в зависимости от размерности')\n",
        "plt.xlabel('Размерность')\n",
        "plt.ylabel('Время, сек')\n",
        "plt.plot(samples_sizes, times1)\n",
        "plt.plot(samples_sizes, times2)\n",
        "plt.plot(samples_sizes, times3)\n",
        "plt.legend(['fibb', 'BBS', 'random.randint'])\n",
        "plt.show()"
      ],
      "metadata": {
        "colab": {
          "base_uri": "https://localhost:8080/",
          "height": 472
        },
        "id": "ahv6nRhR8xFZ",
        "outputId": "17a0e281-6fa4-4ac9-8ac8-ace35bf99968"
      },
      "execution_count": null,
      "outputs": [
        {
          "output_type": "display_data",
          "data": {
            "text/plain": [
              "<Figure size 640x480 with 1 Axes>"
            ],
            "image/png": "[encoded data removed]"
          },
          "metadata": {}
        }
      ]
    }
  ]
}