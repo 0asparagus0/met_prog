{
 "cells": [
  {
   "cell_type": "code",
   "execution_count": 5,
   "metadata": {},
   "outputs": [],
   "source": [
    "class Point:\n",
    "    def __init__(self, x=0, y=0):\n",
    "        self.x = x\n",
    "        self.y = y\n",
    "\n",
    "    def __str__(self):\n",
    "        return \"({0},{1})\".format(self.x,self.y)\n",
    "    \n",
    "    #<\n",
    "    def __lt__(self, other):\n",
    "        return self.x**2+self.y**2<other.x**2+other.y**2\n",
    "\n",
    "# задаем координаты точек p1, p2\n",
    "p1 = Point(1, 2)\n",
    "p2 = Point(2, 3)"
   ]
  },
  {
   "cell_type": "code",
   "execution_count": 4,
   "metadata": {},
   "outputs": [
    {
     "name": "stdout",
     "output_type": "stream",
     "text": [
      "(1,2)\n"
     ]
    }
   ],
   "source": [
    "print (p1)"
   ]
  },
  {
   "cell_type": "code",
   "execution_count": 6,
   "metadata": {},
   "outputs": [
    {
     "data": {
      "text/plain": [
       "True"
      ]
     },
     "execution_count": 6,
     "metadata": {},
     "output_type": "execute_result"
    }
   ],
   "source": [
    "p1<p2"
   ]
  },
  {
   "cell_type": "code",
   "execution_count": 10,
   "metadata": {},
   "outputs": [
    {
     "data": {
      "text/plain": [
       "True"
      ]
     },
     "execution_count": 10,
     "metadata": {},
     "output_type": "execute_result"
    }
   ],
   "source": [
    "\"erty on\">\"ert yon\""
   ]
  },
  {
   "cell_type": "code",
   "execution_count": 33,
   "metadata": {},
   "outputs": [],
   "source": [
    "def merge_sort(mas):\n",
    "    if len(mas)<=1: return mas\n",
    "    left=merge_sort(mas[:len(mas)//2])\n",
    "    right=merge_sort(mas[len(mas)//2:])\n",
    "    res=[]\n",
    "    i=j=0\n",
    "    while i<len(left) and j<len(right):\n",
    "        if left[i]<right[j]:\n",
    "            res.append(left[i])\n",
    "            i+=1\n",
    "        else:\n",
    "            res.append(right[j])\n",
    "            j+=1\n",
    "    if i<len(left): res+=left[i:]\n",
    "    if j<len(right): res+=right[j:]\n",
    "    return res\n"
   ]
  },
  {
   "cell_type": "code",
   "execution_count": 13,
   "metadata": {},
   "outputs": [
    {
     "data": {
      "text/plain": [
       "'sf'"
      ]
     },
     "execution_count": 13,
     "metadata": {},
     "output_type": "execute_result"
    }
   ],
   "source": [
    "5//2\n",
    "a=\"sfrth\"\n",
    "a[:2]"
   ]
  },
  {
   "cell_type": "code",
   "execution_count": 34,
   "metadata": {},
   "outputs": [
    {
     "name": "stdout",
     "output_type": "stream",
     "text": [
      "[0, 0, 1, 3, 5, 5, 7, 22, 46, 95]\n"
     ]
    },
    {
     "data": {
      "text/plain": [
       "[1, 5, 7, 3, 0, 46, 95, 22, 5, 0]"
      ]
     },
     "execution_count": 34,
     "metadata": {},
     "output_type": "execute_result"
    }
   ],
   "source": [
    "a=[1,5,7,3,0,46,95,22,5,0]\n",
    "print(merge_sort(a))\n",
    "a"
   ]
  },
  {
   "cell_type": "code",
   "execution_count": 31,
   "metadata": {},
   "outputs": [],
   "source": [
    "def quick_sort(mas):\n",
    "    if len(mas)<=1: return mas\n",
    "    less = []\n",
    "    equal = []\n",
    "    more = []\n",
    "    border = mas[0]\n",
    "    for x in mas:\n",
    "        if x < border:\n",
    "            less.append(x)\n",
    "        elif x == border:\n",
    "            equal.append(x)\n",
    "        else:\n",
    "            more.append(x)\n",
    "    return quick_sort(less)+equal+quick_sort(more)\n",
    "   \n",
    "        "
   ]
  },
  {
   "cell_type": "code",
   "execution_count": 32,
   "metadata": {},
   "outputs": [
    {
     "name": "stdout",
     "output_type": "stream",
     "text": [
      "[0, 0, 1, 3, 5, 5, 7, 22, 46, 95]\n"
     ]
    },
    {
     "data": {
      "text/plain": [
       "[1, 5, 7, 3, 0, 46, 95, 22, 5, 0]"
      ]
     },
     "execution_count": 32,
     "metadata": {},
     "output_type": "execute_result"
    }
   ],
   "source": [
    "a=[1,5,7,3,0,46,95,22,5,0]\n",
    "print(quick_sort(a))\n",
    "a"
   ]
  },
  {
   "cell_type": "code",
   "execution_count": 29,
   "metadata": {},
   "outputs": [
    {
     "name": "stdout",
     "output_type": "stream",
     "text": [
      "[-2, 0, 3, 5, 7]\n",
      "[5, 0, -2, 7, 3]\n"
     ]
    }
   ],
   "source": [
    "mas = [5, 0, -2, 7, 3] \n",
    " \n",
    "# идём снизу вверх \n",
    "def sift_up(arr): \n",
    "    for i in range(len(arr)): \n",
    "        while i>0: \n",
    "            j = (i-1)//2  # индекс родителя \n",
    "            if arr[i]>arr[j]: \n",
    "                arr[i],arr[j] = arr[j],arr[i] \n",
    "            else: \n",
    "                break \n",
    "            i=j \n",
    "        #print(arr) \n",
    "    return arr\n",
    " \n",
    "# идём сверху вниз \n",
    "def sift_down(arr,i,last_index): \n",
    "    while True: \n",
    "        left_j = 2*i + 1 # левый ребёнок \n",
    "        right_j = 2*i + 2 # правый ребёнок \n",
    "        j=i # родитель \n",
    "        if left_j < last_index and arr[left_j] > arr[j]: \n",
    "            j = left_j \n",
    "        if right_j < last_index and arr[right_j] > arr[j]: \n",
    "            j = right_j \n",
    "        if j != i: # если какой-то из ребёнков больше чем родитель \n",
    "            arr[i],arr[j] = arr[j],arr[i] \n",
    "            i = j \n",
    "        else: \n",
    "            break \n",
    "        #print(arr) \n",
    "    return arr\n",
    " \n",
    "def heap_sort(mas): \n",
    "    arr=mas.copy()\n",
    "    sift_up(arr) \n",
    "    last_index = len(arr) - 1 \n",
    "    while last_index > 0: \n",
    "        arr[0], arr[last_index] = arr[last_index], arr[0] \n",
    "        #print(arr) \n",
    "        sift_down(arr, 0, last_index) \n",
    "        last_index -=1\n",
    "    return arr \n",
    " \n",
    "print(heap_sort(mas) )\n",
    "print(mas)\n"
   ]
  },
  {
   "cell_type": "code",
   "execution_count": null,
   "metadata": {},
   "outputs": [],
   "source": []
  }
 ],
 "metadata": {
  "kernelspec": {
   "display_name": "Python 3",
   "language": "python",
   "name": "python3"
  },
  "language_info": {
   "codemirror_mode": {
    "name": "ipython",
    "version": 3
   },
   "file_extension": ".py",
   "mimetype": "text/x-python",
   "name": "python",
   "nbconvert_exporter": "python",
   "pygments_lexer": "ipython3",
   "version": "3.11.5"
  }
 },
 "nbformat": 4,
 "nbformat_minor": 2
}
