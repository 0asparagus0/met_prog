{
 "cells": [
  {
   "cell_type": "code",
   "execution_count": 41,
   "metadata": {},
   "outputs": [],
   "source": [
    "from abc import ABC, abstractmethod"
   ]
  },
  {
   "cell_type": "code",
   "execution_count": 42,
   "metadata": {},
   "outputs": [],
   "source": [
    "class Strategy(ABC):\n",
    "    @abstractmethod\n",
    "    def random_number_generator(self, size, start, end):\n",
    "        pass"
   ]
  },
  {
   "cell_type": "code",
   "execution_count": 43,
   "metadata": {},
   "outputs": [],
   "source": [
    "class random1(Strategy):\n",
    "    def random_number_generator(self, size, start, end):\n",
    "        seed1 = 23748\n",
    "        mas=[23748]\n",
    "        k1,k2,k3=328942,1728,1\n",
    "        for _ in range (size):\n",
    "            seed1=k1*seed1**2+k2*seed1+k3\n",
    "            mas.append(start + seed1 % (end - start))\n",
    "        print(\"Первая стратегия \", mas)"
   ]
  },
  {
   "cell_type": "code",
   "execution_count": 44,
   "metadata": {},
   "outputs": [],
   "source": [
    "class random2(Strategy):\n",
    "    def random_number_generator(self, size, start, end):\n",
    "        seed1 = 23748\n",
    "        mas=[23748]\n",
    "        for _ in range (size):\n",
    "            seed1 = seed1 * 328942 + 1728\n",
    "            mas.append(start + seed1  % (end - start))\n",
    "        print(\"Вторая стратегия \", mas)"
   ]
  },
  {
   "cell_type": "code",
   "execution_count": 45,
   "metadata": {},
   "outputs": [],
   "source": [
    "class random3(Strategy):\n",
    "    def random_number_generator(self, size, start, end):\n",
    "        seed21 = 27\n",
    "        seed22 = 53\n",
    "        mas=[27,53]\n",
    "        for _ in range (size):\n",
    "            seed21 = 3489 * (seed21 & 0xffff) + (seed21 >> 16)\n",
    "            seed22 = 23921 * (seed22 & 0xffff) + (seed22 >> 16)\n",
    "            mas.append(start + ((seed21 << 16) + (seed22 & 0xffff)) % (end - start))\n",
    "        print(\"Третья стратегия \", mas)"
   ]
  },
  {
   "cell_type": "code",
   "execution_count": 46,
   "metadata": {},
   "outputs": [],
   "source": [
    "class Context:\n",
    "    def __init__(self, strategy: Strategy):\n",
    "        self._strategy = strategy\n",
    "        \n",
    "    def set_strategy(self, strategy: Strategy):\n",
    "        self._strategy = strategy\n",
    "        print(\"Стратегия изменилась\")\n",
    "\n",
    "    def generate(self, size, start, end):\n",
    "        self._strategy.random_number_generator(size, start, end)\n",
    "    "
   ]
  },
  {
   "cell_type": "code",
   "execution_count": 47,
   "metadata": {},
   "outputs": [
    {
     "name": "stdout",
     "output_type": "stream",
     "text": [
      "Первая стратегия  [23748, 37313, 49663, 31663, 21663, 21663, 21663, 21663, 21663, 21663, 21663]\n",
      "Вторая стратегия  [23748, 16344, 29776, 28720, 15968, 47584, 27856, 10080, 37088, 2624, 45536]\n",
      "Третья стратегия  [27, 53, 10437, 28408, 38027, 8681, 21905, 1934, 47632, 29485, 34818, 508]\n",
      "Стратегия изменилась\n",
      "Первая стратегия  [23748, 37313, 49663, 31663, 21663, 21663, 21663, 21663, 21663, 21663, 21663]\n"
     ]
    }
   ],
   "source": [
    "ex1=Context(random1())\n",
    "ex1.generate(10,0,50000)\n",
    "\n",
    "ex2=Context(random2())\n",
    "ex2.generate(10,0,50000)\n",
    "\n",
    "ex3=Context(random3())\n",
    "ex3.generate(10,0,50000)\n",
    "\n",
    "ex3.set_strategy(random1())\n",
    "ex3.generate(10,0,50000)\n"
   ]
  }
 ],
 "metadata": {
  "kernelspec": {
   "display_name": "Python 3",
   "language": "python",
   "name": "python3"
  },
  "language_info": {
   "codemirror_mode": {
    "name": "ipython",
    "version": 3
   },
   "file_extension": ".py",
   "mimetype": "text/x-python",
   "name": "python",
   "nbconvert_exporter": "python",
   "pygments_lexer": "ipython3",
   "version": "3.11.5"
  }
 },
 "nbformat": 4,
 "nbformat_minor": 2
}
